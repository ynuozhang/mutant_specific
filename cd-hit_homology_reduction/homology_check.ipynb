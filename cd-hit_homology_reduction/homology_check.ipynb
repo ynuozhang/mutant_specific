{
 "cells": [
  {
   "cell_type": "code",
   "execution_count": 5,
   "metadata": {
    "collapsed": true
   },
   "outputs": [
    {
     "name": "stdout",
     "output_type": "stream",
     "text": [
      "Overwriting homology_reduction.sh\n"
     ]
    }
   ],
   "source": [
    "%%writefile homology_reduction.sh\n",
    "HOME_LOC = /data/rozen/e0833634/pacakges/cdhit\n",
    "echo HOME_LOC\n",
    "dir"
   ]
  },
  {
   "cell_type": "code",
   "execution_count": 7,
   "outputs": [
    {
     "name": "stdout",
     "output_type": "stream",
     "text": [
      "/bin/bash: /data/rozen/home/e0833634/mutant_specific/cd-hit_homology_reduction/homology_reduction.sh: Permission denied\r\n"
     ]
    }
   ],
   "source": [
    "!/data/rozen/home/e0833634/mutant_specific/cd-hit_homology_reduction/homology_reduction.sh"
   ],
   "metadata": {
    "collapsed": false,
    "pycharm": {
     "name": "#%%\n"
    }
   }
  },
  {
   "cell_type": "code",
   "execution_count": null,
   "outputs": [],
   "source": [],
   "metadata": {
    "collapsed": false,
    "pycharm": {
     "name": "#%%\n"
    }
   }
  }
 ],
 "metadata": {
  "kernelspec": {
   "display_name": "Python 3",
   "language": "python",
   "name": "python3"
  },
  "language_info": {
   "codemirror_mode": {
    "name": "ipython",
    "version": 2
   },
   "file_extension": ".py",
   "mimetype": "text/x-python",
   "name": "python",
   "nbconvert_exporter": "python",
   "pygments_lexer": "ipython2",
   "version": "2.7.6"
  }
 },
 "nbformat": 4,
 "nbformat_minor": 0
}